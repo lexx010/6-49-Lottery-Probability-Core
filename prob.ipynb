{
 "cells": [
  {
   "cell_type": "markdown",
   "id": "f1a5a5de",
   "metadata": {},
   "source": [
    "<a href=\"https://github.com/lexx010?tab=repositories\">\n",
    "    <img src=\"img/github_sm.png\">\n",
    "</a>"
   ]
  },
  {
   "cell_type": "markdown",
   "id": "776ea5a2",
   "metadata": {},
   "source": [
    "## Project Overview: 6/49 Lottery Probability Core\n",
    "\n",
    "A medical institute focused on preventing and treating gambling addiction is developing a mobile app to help lottery players better understand their chances of winning. They’ve asked us to build the **logical core** of the app for the 6/49 lottery.\n",
    "\n",
    "The app should answer key probability questions such as:\n",
    "\n",
    "* What is the probability of winning the jackpot with a **single ticket**?\n",
    "* What are the chances of winning if a user plays **multiple tickets** (e.g., 40)?\n",
    "* What is the probability of getting **at least 2, 3, 4, or 5 matching numbers** on a single ticket?\n",
    "\n",
    "Our goal is to implement clean, reusable functions that calculate and clearly explain these probabilities.\n"
   ]
  },
  {
   "cell_type": "markdown",
   "id": "2e3d7bbe",
   "metadata": {},
   "source": [
    "### Create Foundational Functions\n",
    "\n",
    "The first step in building the core logic for the lottery probability calculator is to implement two essential mathematical functions: one for calculating **factorials** and another for calculating **combinations**.\n",
    "\n",
    "The **factorial** function should take a single positive integer `n` and return the product of all positive integers from 1 up to `n`. This is a basic mathematical operation used extensively in probability and combinatorics.\n",
    "\n",
    "Next, implement a **combinations** function to calculate how many ways `k` items can be selected from a group of `n` items, regardless of order. This is commonly referred to as \"n choose k\" and is calculated using the factorial formula:\n",
    "\n",
    "$$\n",
    "C(n, k) = \\frac{n!}{k!(n - k)!}\n",
    "$$\n",
    "\n",
    "These two functions will serve as the foundation for all further calculations related to lottery probabilities, including single-ticket odds, multiple-ticket scenarios, and partial matches.\n"
   ]
  },
  {
   "cell_type": "code",
   "execution_count": 3,
   "id": "e79fdae4",
   "metadata": {},
   "outputs": [],
   "source": [
    "import pandas as pd"
   ]
  },
  {
   "cell_type": "code",
   "execution_count": 4,
   "id": "9588cb39",
   "metadata": {},
   "outputs": [],
   "source": [
    "# A function that calculates factorials\n",
    "def factorial(n):\n",
    "    final_product = 1\n",
    "    for i in range(n, 0, -1):\n",
    "        final_product *= i\n",
    "    return final_product\n",
    "\n",
    "# A function that calculates combinations\n",
    "def combinations(n,k):\n",
    "     if k > n:\n",
    "            raise ValueError(\"k cannot be greater than n\")\n",
    "     return factorial(n) // (factorial(k)*factorial(n-k))\n"
   ]
  },
  {
   "cell_type": "markdown",
   "id": "db6e1bef",
   "metadata": {},
   "source": [
    "### One-Ticket Probability\n",
    "\n",
    "The next step is to calculate the probability of winning the big prize using a **single lottery ticket**, where each ticket contains **six unique numbers** chosen from a pool of numbers ranging from 1 to 49.\n",
    "\n",
    "To do this, we need to write a function that takes the user’s selected numbers as input. These numbers will be provided as a **Python list** of six distinct integers between 1 and 49. The function should then compute the probability of matching all six numbers correctly in a 6/49 lottery draw, where only **one exact combination** results in a win.\n",
    "\n",
    "The function must also **display the probability in a clear and user-friendly format**, so that even users without any background in statistics or probability can easily understand their chances of winning. This means presenting the result both as a percentage and as a simplified ratio (e.g., \"1 in X\").\n"
   ]
  },
  {
   "cell_type": "code",
   "execution_count": 5,
   "id": "6801b989",
   "metadata": {},
   "outputs": [
    {
     "name": "stdout",
     "output_type": "stream",
     "text": [
      "Your numbers: [1, 2, 3, 4, 5, 6]\n",
      "Probability of winning the 6/49 lottery with this ticket:\n",
      "0.00000715% chance - or abount 1 in 13,983,816.\n"
     ]
    }
   ],
   "source": [
    "def one_ticket_probability(user_numbers):\n",
    "    # calculating the total number of possible outcomes\n",
    "    total_outcomes = combinations(49, 6)\n",
    "    # the number of successful outcomes is 1\n",
    "    successful_outcomes = 1\n",
    "    # the number of successful outcomes and the total number of possible outcomes to calculate the probability for one ticket.\n",
    "    probability = successful_outcomes / total_outcomes\n",
    "    percentage = probability * 100\n",
    "\n",
    "    #output\n",
    "    print(f\"Your numbers: {sorted(user_numbers)}\")\n",
    "    print(\"Probability of winning the 6/49 lottery with this ticket:\")\n",
    "    print(f\"{percentage:.8f}% chance - or abount 1 in {total_outcomes:,}.\")\n",
    "\n",
    "one_ticket_probability([1, 2, 3, 4, 5, 6])\n",
    "\n",
    "\n"
   ]
  },
  {
   "cell_type": "markdown",
   "id": "b1fb62a0",
   "metadata": {},
   "source": [
    "### Historical Data Check for Canada Lottery\n",
    "\n",
    "In addition to calculating probabilities, the first version of the app should allow users to compare their chosen ticket against **historical lottery data** from Canada. This feature helps users see whether their specific combination of numbers would have ever won in the past.\n",
    "\n",
    "The dataset we'll use comes from [Kaggle](https://www.kaggle.com/datasets/datascienceai/lottery-dataset) and contains results from **3,665 official 6/49 lottery drawings**, dating from **1982 to 2018**. Each row in the dataset represents a single drawing and includes the six winning numbers in the following columns:\n",
    "\n",
    "* NUMBER DRAWN 1\n",
    "* NUMBER DRAWN 2\n",
    "* NUMBER DRAWN 3\n",
    "* NUMBER DRAWN 4\n",
    "* NUMBER DRAWN 5\n",
    "* NUMBER DRAWN 6\n",
    "\n",
    "The app should be able to check if the user’s chosen combination has **ever appeared** in these past drawings and display how many times (if any) it occurred. This adds context to the probability calculations and enhances user awareness about historical outcomes.\n"
   ]
  },
  {
   "cell_type": "code",
   "execution_count": 6,
   "id": "123549f2",
   "metadata": {},
   "outputs": [
    {
     "name": "stdout",
     "output_type": "stream",
     "text": [
      "Number of rows: 3665\n",
      "Number of columns: 11\n"
     ]
    }
   ],
   "source": [
    "# Load the CSV file and print its shape\n",
    "df = pd.read_csv(\"649.csv\")\n",
    "print(f\"Number of rows: {df.shape[0]}\")\n",
    "print(f\"Number of columns: {df.shape[1]}\")"
   ]
  },
  {
   "cell_type": "code",
   "execution_count": 7,
   "id": "0de000d6",
   "metadata": {},
   "outputs": [
    {
     "data": {
      "text/html": [
       "<div>\n",
       "<style scoped>\n",
       "    .dataframe tbody tr th:only-of-type {\n",
       "        vertical-align: middle;\n",
       "    }\n",
       "\n",
       "    .dataframe tbody tr th {\n",
       "        vertical-align: top;\n",
       "    }\n",
       "\n",
       "    .dataframe thead th {\n",
       "        text-align: right;\n",
       "    }\n",
       "</style>\n",
       "<table border=\"1\" class=\"dataframe\">\n",
       "  <thead>\n",
       "    <tr style=\"text-align: right;\">\n",
       "      <th></th>\n",
       "      <th>PRODUCT</th>\n",
       "      <th>DRAW NUMBER</th>\n",
       "      <th>SEQUENCE NUMBER</th>\n",
       "      <th>DRAW DATE</th>\n",
       "      <th>NUMBER DRAWN 1</th>\n",
       "      <th>NUMBER DRAWN 2</th>\n",
       "      <th>NUMBER DRAWN 3</th>\n",
       "      <th>NUMBER DRAWN 4</th>\n",
       "      <th>NUMBER DRAWN 5</th>\n",
       "      <th>NUMBER DRAWN 6</th>\n",
       "      <th>BONUS NUMBER</th>\n",
       "    </tr>\n",
       "  </thead>\n",
       "  <tbody>\n",
       "    <tr>\n",
       "      <th>0</th>\n",
       "      <td>649</td>\n",
       "      <td>1</td>\n",
       "      <td>0</td>\n",
       "      <td>6/12/1982</td>\n",
       "      <td>3</td>\n",
       "      <td>11</td>\n",
       "      <td>12</td>\n",
       "      <td>14</td>\n",
       "      <td>41</td>\n",
       "      <td>43</td>\n",
       "      <td>13</td>\n",
       "    </tr>\n",
       "    <tr>\n",
       "      <th>1</th>\n",
       "      <td>649</td>\n",
       "      <td>2</td>\n",
       "      <td>0</td>\n",
       "      <td>6/19/1982</td>\n",
       "      <td>8</td>\n",
       "      <td>33</td>\n",
       "      <td>36</td>\n",
       "      <td>37</td>\n",
       "      <td>39</td>\n",
       "      <td>41</td>\n",
       "      <td>9</td>\n",
       "    </tr>\n",
       "    <tr>\n",
       "      <th>2</th>\n",
       "      <td>649</td>\n",
       "      <td>3</td>\n",
       "      <td>0</td>\n",
       "      <td>6/26/1982</td>\n",
       "      <td>1</td>\n",
       "      <td>6</td>\n",
       "      <td>23</td>\n",
       "      <td>24</td>\n",
       "      <td>27</td>\n",
       "      <td>39</td>\n",
       "      <td>34</td>\n",
       "    </tr>\n",
       "  </tbody>\n",
       "</table>\n",
       "</div>"
      ],
      "text/plain": [
       "   PRODUCT  DRAW NUMBER  SEQUENCE NUMBER  DRAW DATE  NUMBER DRAWN 1  \\\n",
       "0      649            1                0  6/12/1982               3   \n",
       "1      649            2                0  6/19/1982               8   \n",
       "2      649            3                0  6/26/1982               1   \n",
       "\n",
       "   NUMBER DRAWN 2  NUMBER DRAWN 3  NUMBER DRAWN 4  NUMBER DRAWN 5  \\\n",
       "0              11              12              14              41   \n",
       "1              33              36              37              39   \n",
       "2               6              23              24              27   \n",
       "\n",
       "   NUMBER DRAWN 6  BONUS NUMBER  \n",
       "0              43            13  \n",
       "1              41             9  \n",
       "2              39            34  "
      ]
     },
     "execution_count": 7,
     "metadata": {},
     "output_type": "execute_result"
    }
   ],
   "source": [
    "df.head(3)"
   ]
  },
  {
   "cell_type": "code",
   "execution_count": 8,
   "id": "b76b3e56",
   "metadata": {},
   "outputs": [
    {
     "data": {
      "text/html": [
       "<div>\n",
       "<style scoped>\n",
       "    .dataframe tbody tr th:only-of-type {\n",
       "        vertical-align: middle;\n",
       "    }\n",
       "\n",
       "    .dataframe tbody tr th {\n",
       "        vertical-align: top;\n",
       "    }\n",
       "\n",
       "    .dataframe thead th {\n",
       "        text-align: right;\n",
       "    }\n",
       "</style>\n",
       "<table border=\"1\" class=\"dataframe\">\n",
       "  <thead>\n",
       "    <tr style=\"text-align: right;\">\n",
       "      <th></th>\n",
       "      <th>PRODUCT</th>\n",
       "      <th>DRAW NUMBER</th>\n",
       "      <th>SEQUENCE NUMBER</th>\n",
       "      <th>DRAW DATE</th>\n",
       "      <th>NUMBER DRAWN 1</th>\n",
       "      <th>NUMBER DRAWN 2</th>\n",
       "      <th>NUMBER DRAWN 3</th>\n",
       "      <th>NUMBER DRAWN 4</th>\n",
       "      <th>NUMBER DRAWN 5</th>\n",
       "      <th>NUMBER DRAWN 6</th>\n",
       "      <th>BONUS NUMBER</th>\n",
       "    </tr>\n",
       "  </thead>\n",
       "  <tbody>\n",
       "    <tr>\n",
       "      <th>3662</th>\n",
       "      <td>649</td>\n",
       "      <td>3589</td>\n",
       "      <td>0</td>\n",
       "      <td>6/13/2018</td>\n",
       "      <td>6</td>\n",
       "      <td>22</td>\n",
       "      <td>24</td>\n",
       "      <td>31</td>\n",
       "      <td>32</td>\n",
       "      <td>34</td>\n",
       "      <td>16</td>\n",
       "    </tr>\n",
       "    <tr>\n",
       "      <th>3663</th>\n",
       "      <td>649</td>\n",
       "      <td>3590</td>\n",
       "      <td>0</td>\n",
       "      <td>6/16/2018</td>\n",
       "      <td>2</td>\n",
       "      <td>15</td>\n",
       "      <td>21</td>\n",
       "      <td>31</td>\n",
       "      <td>38</td>\n",
       "      <td>49</td>\n",
       "      <td>8</td>\n",
       "    </tr>\n",
       "    <tr>\n",
       "      <th>3664</th>\n",
       "      <td>649</td>\n",
       "      <td>3591</td>\n",
       "      <td>0</td>\n",
       "      <td>6/20/2018</td>\n",
       "      <td>14</td>\n",
       "      <td>24</td>\n",
       "      <td>31</td>\n",
       "      <td>35</td>\n",
       "      <td>37</td>\n",
       "      <td>48</td>\n",
       "      <td>17</td>\n",
       "    </tr>\n",
       "  </tbody>\n",
       "</table>\n",
       "</div>"
      ],
      "text/plain": [
       "      PRODUCT  DRAW NUMBER  SEQUENCE NUMBER  DRAW DATE  NUMBER DRAWN 1  \\\n",
       "3662      649         3589                0  6/13/2018               6   \n",
       "3663      649         3590                0  6/16/2018               2   \n",
       "3664      649         3591                0  6/20/2018              14   \n",
       "\n",
       "      NUMBER DRAWN 2  NUMBER DRAWN 3  NUMBER DRAWN 4  NUMBER DRAWN 5  \\\n",
       "3662              22              24              31              32   \n",
       "3663              15              21              31              38   \n",
       "3664              24              31              35              37   \n",
       "\n",
       "      NUMBER DRAWN 6  BONUS NUMBER  \n",
       "3662              34            16  \n",
       "3663              49             8  \n",
       "3664              48            17  "
      ]
     },
     "execution_count": 8,
     "metadata": {},
     "output_type": "execute_result"
    }
   ],
   "source": [
    "df.tail(3)"
   ]
  },
  {
   "cell_type": "markdown",
   "id": "1f2e0074",
   "metadata": {},
   "source": [
    "\n",
    "### Function for Historical Data Check\n",
    "\n",
    "To help users better understand how their chosen numbers have performed in the past, we will create a function that checks the **historical lottery data** for exact matches.\n",
    "\n",
    "This function will take two inputs:\n",
    "\n",
    "* A list of six numbers selected by the user\n",
    "* A Series containing sets of winning numbers from historical draws\n",
    "\n",
    "The function will perform two main tasks:\n",
    "\n",
    "1. **Check how many times** the user’s exact combination has appeared in the historical Canada lottery data\n",
    "2. **Display the probability** of winning the big prize in the next 6/49 drawing using that same combination\n",
    "\n",
    "The results should be printed in a **clear and easy-to-understand format**, so users can see both their historical “success rate” and the odds of winning going forward. This provides a balance between data-driven insight and probability awareness.\n"
   ]
  },
  {
   "cell_type": "code",
   "execution_count": 9,
   "id": "edce403f",
   "metadata": {},
   "outputs": [
    {
     "data": {
      "text/plain": [
       "0    {3, 41, 11, 12, 43, 14}\n",
       "1    {33, 36, 37, 39, 8, 41}\n",
       "2     {1, 6, 39, 23, 24, 27}\n",
       "3     {3, 9, 10, 43, 13, 20}\n",
       "4    {34, 5, 14, 47, 21, 31}\n",
       "dtype: object"
      ]
     },
     "execution_count": 9,
     "metadata": {},
     "output_type": "execute_result"
    }
   ],
   "source": [
    "# Extract all the winning six numbers from the historical data set\n",
    "def extract_numbers(row):\n",
    "    winning_numbers = row[4:10]\n",
    "    return set(winning_numbers.values)\n",
    "\n",
    "winning_numbers = df.apply(extract_numbers, axis=1)\n",
    "winning_numbers.head()\n"
   ]
  },
  {
   "cell_type": "code",
   "execution_count": 10,
   "id": "0f7a018e",
   "metadata": {},
   "outputs": [],
   "source": [
    "def check_historical_occurence(user_numbers, historical_winning_numbers):\n",
    "# Convert the user numbers list as a set using the set() function.\n",
    "    usee_numbers_set = set(user_numbers)\n",
    "# Compare the set against the pandas Series \n",
    "    matches = historical_winning_numbers == usee_numbers_set\n",
    "    match_count = matches.sum()\n",
    "    total_draws = len(historical_winning_numbers)\n",
    "\n",
    "    print(f\"Your numbers: {sorted(user_numbers)}\")\n",
    "    print(f\"The combination occured {match_count} time(s) in {total_draws}.\")\n",
    "\n",
    "    total_combinations = combinations(49, 6)\n",
    "    probability = 1 / total_combinations\n",
    "   \n",
    "    print(f\"Probability of winning with this exact combination: {probability * 100:.8f}%.\")\n",
    "    print(f\"That’s about 1 in {total_combinations:,}.\")\n"
   ]
  },
  {
   "cell_type": "code",
   "execution_count": 11,
   "id": "fdb71f49",
   "metadata": {},
   "outputs": [
    {
     "name": "stdout",
     "output_type": "stream",
     "text": [
      "Your numbers: [3, 11, 12, 14, 41, 43]\n",
      "The combination occured 1 time(s) in 3665.\n",
      "Probability of winning with this exact combination: 0.00000715%.\n",
      "That’s about 1 in 13,983,816.\n"
     ]
    }
   ],
   "source": [
    "user_numbers = {3, 41, 11, 12, 43, 14}\n",
    "check_historical_occurence(user_numbers, winning_numbers)"
   ]
  },
  {
   "cell_type": "markdown",
   "id": "ab85576d",
   "metadata": {},
   "source": [
    "### Multi-ticket Probability\n",
    "\n",
    "To help users understand how playing multiple tickets affects their chances of winning, we'll create a function that estimates the **probability of winning the jackpot** based on the number of different tickets played.\n",
    "\n",
    "* The input will be a single integer between **1 and 13,983,816** (the total number of possible 6/49 combinations).\n",
    "* The function will calculate and **display the probability of winning** with that many tickets, shown as both a **percentage** and a simplified **\"1 in X\"** format.\n",
    "\n",
    "This allows users to clearly see how much (or how little) their odds improve with more tickets.\n",
    "\n",
    "\n"
   ]
  },
  {
   "cell_type": "code",
   "execution_count": 12,
   "id": "253f7a26",
   "metadata": {},
   "outputs": [
    {
     "name": "stdout",
     "output_type": "stream",
     "text": [
      "Playing 1 ticket(s) gives you a 0.00000715% chance of winning (1 in 13,983,816).\n",
      "Playing 10 ticket(s) gives you a 0.00007151% chance of winning (1 in 1,398,381).\n",
      "Playing 100 ticket(s) gives you a 0.00071511% chance of winning (1 in 139,838).\n",
      "Playing 10,000 ticket(s) gives you a 0.07151124% chance of winning (1 in 1,398).\n",
      "Playing 1,000,000 ticket(s) gives you a 7.15112384% chance of winning (1 in 13).\n",
      "Playing 6,991,908 ticket(s) gives you a 50.00000000% chance of winning (1 in 2).\n",
      "Playing 13,983,816 ticket(s) gives you a 100.00000000% chance of winning (1 in 1).\n"
     ]
    }
   ],
   "source": [
    "def multi_ticket_probability(tickets_list):\n",
    "    #  calculating the total number of possible outcomes\n",
    "    total_outcomes = combinations(49,6)\n",
    "\n",
    "    #  number of successful outcomes\n",
    "\n",
    "    for tickets in tickets_list:\n",
    "        if tickets > total_outcomes:\n",
    "            probability = 1.0\n",
    "        else:\n",
    "            probability = tickets / total_outcomes\n",
    "\n",
    "        percentage = probability * 100\n",
    "        odds = f\"1 in {int(1 / probability):,}\" if probability !=0 else \"infinity\"\n",
    "\n",
    "        print(f\"Playing {tickets:,} ticket(s) gives you a {percentage:.8f}% chance of winning ({odds}).\")\n",
    "        \n",
    "test_tickets = [1, 10, 100, 10000, 1000000, 6991908, 13983816]\n",
    "multi_ticket_probability(test_tickets)\n",
    "            \n",
    "        "
   ]
  },
  {
   "cell_type": "markdown",
   "id": "be69d82a",
   "metadata": {},
   "source": [
    "### Probability for Fewer Winning Numbers\n",
    "\n",
    "Users may want to know their chances of matching **two, three, four, or five** numbers out of the six drawn, as many 6/49 lotteries offer smaller prizes for these partial matches.\n",
    "\n",
    "To support this, we will create a function that:\n",
    "\n",
    "* Accepts as input the user’s **six unique numbers** (from 1 to 49)\n",
    "* Accepts an integer between **2 and 5** indicating how many matching numbers to calculate the probability for\n",
    "\n",
    "The function will then compute and display the probability of having exactly that many winning numbers on a ticket, helping users understand their odds for smaller prizes.\n"
   ]
  },
  {
   "cell_type": "code",
   "execution_count": 13,
   "id": "485cc0ae",
   "metadata": {},
   "outputs": [
    {
     "name": "stdout",
     "output_type": "stream",
     "text": [
      "Probability of matching exactly 2 numbers in the 6/49 lottery:\n",
      "13.24% — that's about 1 in 7\n",
      "------------------------------------------------------------\n",
      "Probability of matching exactly 3 numbers in the 6/49 lottery:\n",
      "1.77% — that's about 1 in 56\n",
      "------------------------------------------------------------\n",
      "Probability of matching exactly 4 numbers in the 6/49 lottery:\n",
      "0.10% — that's about 1 in 1,032\n",
      "------------------------------------------------------------\n",
      "Probability of matching exactly 5 numbers in the 6/49 lottery:\n",
      "0.00% — that's about 1 in 54,200\n",
      "------------------------------------------------------------\n"
     ]
    }
   ],
   "source": [
    "#  A function takes in an integer between 2 and 5 and prints information \n",
    "#  about the chances of winning depending on the value of that integer.  \n",
    "\n",
    "def probability_less_6(k):\n",
    "    if k < 2 or k > 5:\n",
    "        print(\" This function only works for k values between 2 and 5.\")\n",
    "        return\n",
    "    \n",
    "    # calculate the number of successful outcomes \n",
    "    favorable_outcomes = combinations(6, k) * combinations(43, 6-k)\n",
    "\n",
    "    # calculate the number of total possible outcomes.\n",
    "    total_outcomes = combinations(49, 6)\n",
    "\n",
    "    probability = favorable_outcomes / total_outcomes\n",
    "    percentage = probability * 100\n",
    "\n",
    "    print(f\"Probability of matching exactly {k} numbers in the 6/49 lottery:\")\n",
    "    print(f\"{percentage:.2f}% — that's about 1 in {int(1 / probability):,}\")\n",
    "\n",
    "# test_k_values = [2, 3, 4, 5]\n",
    "for k in [2, 3, 4, 5]:\n",
    "    probability_less_6(k)\n",
    "    print(\"-\" * 60)\n",
    "\n"
   ]
  },
  {
   "cell_type": "markdown",
   "id": "d4cf2a45",
   "metadata": {},
   "source": [
    "### Combining Probability and Historical Occurrence\n",
    "\n",
    "To give users a complete understanding of their lottery ticket’s prospects, we will create a combined function that:\n",
    "\n",
    "* Takes six user-selected numbers as input\n",
    "* Calculates and prints the **probability of winning the jackpot** with those numbers\n",
    "* Checks and prints the **number of times that exact combination has appeared** in the historical lottery data\n",
    "\n",
    "The function will present both pieces of information in a concise, easy-to-understand format, showing users their odds of winning in the future along with the historical success of their chosen numbers. This combined output makes the app more informative and user-friendly.\n"
   ]
  },
  {
   "cell_type": "code",
   "execution_count": 14,
   "id": "756b926c",
   "metadata": {},
   "outputs": [],
   "source": [
    "def display_ticket_info(user_numbers, historical_winning_numbers):\n",
    "    # calculate total combinations and probability\n",
    "    total_combinations = combinations(49, 6)\n",
    "    probability = 1 / total_combinations\n",
    "    percentage = probability * 100\n",
    "\n",
    "    # check if user's combination occurred in the past\n",
    "    user_set = set(user_numbers)\n",
    "    matches = historical_winning_numbers == user_set\n",
    "    match_count = matches.sum()\n",
    "    total_draws = len(historical_winning_numbers)\n",
    "\n",
    "    #display results\n",
    "    print(f\" Your numbers: {sorted(user_numbers)}\")\n",
    "    print(f\" This exact combination has occurred {match_count} time(s) in {total_draws} draws.\")\n",
    "    print(f\" Probability of winning the 6/49 lottery with these numbers: {percentage:.8f}%\")\n",
    "    print(f\" That’s about 1 in {total_combinations:,}\")"
   ]
  },
  {
   "cell_type": "code",
   "execution_count": null,
   "id": "c59920b1",
   "metadata": {},
   "outputs": [
    {
     "name": "stdout",
     "output_type": "stream",
     "text": [
      " Your numbers: [3, 11, 12, 14, 41, 43]\n",
      " This exact combination has occurred 1 time(s) in 3665 draws.\n",
      " Probability of winning the 6/49 lottery with these numbers: 0.00000715%\n",
      " That’s about 1 in 13,983,816\n"
     ]
    }
   ],
   "source": [
    "user_numbers = [3, 41, 11, 12, 43, 14]\n",
    "display_ticket_info(user_numbers, winning_numbers)"
   ]
  }
 ],
 "metadata": {
  "kernelspec": {
   "display_name": "base",
   "language": "python",
   "name": "python3"
  },
  "language_info": {
   "codemirror_mode": {
    "name": "ipython",
    "version": 3
   },
   "file_extension": ".py",
   "mimetype": "text/x-python",
   "name": "python",
   "nbconvert_exporter": "python",
   "pygments_lexer": "ipython3",
   "version": "3.12.3"
  }
 },
 "nbformat": 4,
 "nbformat_minor": 5
}
